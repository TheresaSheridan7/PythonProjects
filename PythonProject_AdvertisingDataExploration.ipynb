{
 "cells": [
  {
   "cell_type": "code",
   "execution_count": 1,
   "id": "ab723108",
   "metadata": {},
   "outputs": [],
   "source": [
    "# Analyse sample advertising data in CSV file format using Python\n",
    "# Import the CSV file (advertising.csv)\n",
    "# Import pandas and numpy modules\n",
    "\n",
    "import pandas as pd\n",
    "import numpy as np"
   ]
  },
  {
   "cell_type": "code",
   "execution_count": 2,
   "id": "6cc8ba4e",
   "metadata": {},
   "outputs": [],
   "source": [
    "data = pd.read_csv('./datasets/advertising.csv',\n",
    "                 names=['TimeSpent', 'Age', 'AreaIncome', \n",
    "                          'DailyInternetUsage', 'AdHeadline', \n",
    "                          'City', 'Male', 'Country', 'Timestamp', \n",
    "                          'Clicked'],\n",
    "                 header=1)"
   ]
  },
  {
   "cell_type": "code",
   "execution_count": 3,
   "id": "15dc2365",
   "metadata": {
    "scrolled": true
   },
   "outputs": [
    {
     "data": {
      "text/html": [
       "<div>\n",
       "<style scoped>\n",
       "    .dataframe tbody tr th:only-of-type {\n",
       "        vertical-align: middle;\n",
       "    }\n",
       "\n",
       "    .dataframe tbody tr th {\n",
       "        vertical-align: top;\n",
       "    }\n",
       "\n",
       "    .dataframe thead th {\n",
       "        text-align: right;\n",
       "    }\n",
       "</style>\n",
       "<table border=\"1\" class=\"dataframe\">\n",
       "  <thead>\n",
       "    <tr style=\"text-align: right;\">\n",
       "      <th></th>\n",
       "      <th>TimeSpent</th>\n",
       "      <th>Age</th>\n",
       "      <th>AreaIncome</th>\n",
       "      <th>DailyInternetUsage</th>\n",
       "      <th>AdHeadline</th>\n",
       "      <th>City</th>\n",
       "      <th>Male</th>\n",
       "      <th>Country</th>\n",
       "      <th>Timestamp</th>\n",
       "      <th>Clicked</th>\n",
       "    </tr>\n",
       "  </thead>\n",
       "  <tbody>\n",
       "    <tr>\n",
       "      <th>0</th>\n",
       "      <td>80.23</td>\n",
       "      <td>31</td>\n",
       "      <td>68441.85</td>\n",
       "      <td>193.77</td>\n",
       "      <td>Monitored national standardization</td>\n",
       "      <td>West Jodi</td>\n",
       "      <td>1</td>\n",
       "      <td>Nauru</td>\n",
       "      <td>2016-04-04 01:39:02</td>\n",
       "      <td>0</td>\n",
       "    </tr>\n",
       "    <tr>\n",
       "      <th>1</th>\n",
       "      <td>74.15</td>\n",
       "      <td>29</td>\n",
       "      <td>54806.18</td>\n",
       "      <td>245.89</td>\n",
       "      <td>Triple-buffered reciprocal time-frame</td>\n",
       "      <td>?</td>\n",
       "      <td>1</td>\n",
       "      <td>Italy</td>\n",
       "      <td>2016-01-10 02:31:19</td>\n",
       "      <td>0</td>\n",
       "    </tr>\n",
       "    <tr>\n",
       "      <th>2</th>\n",
       "      <td>69.47</td>\n",
       "      <td>26</td>\n",
       "      <td>59785.94</td>\n",
       "      <td>236.50</td>\n",
       "      <td>Organic bottom-line service-desk</td>\n",
       "      <td>Davidton</td>\n",
       "      <td>0</td>\n",
       "      <td>San Marino</td>\n",
       "      <td>2016-03-13 20:35:42</td>\n",
       "      <td>0</td>\n",
       "    </tr>\n",
       "    <tr>\n",
       "      <th>3</th>\n",
       "      <td>74.15</td>\n",
       "      <td>29</td>\n",
       "      <td>54806.18</td>\n",
       "      <td>245.89</td>\n",
       "      <td>Triple-buffered reciprocal time-frame</td>\n",
       "      <td>West Terrifurt</td>\n",
       "      <td>1</td>\n",
       "      <td>Italy</td>\n",
       "      <td>2016-01-10 02:31:19</td>\n",
       "      <td>0</td>\n",
       "    </tr>\n",
       "    <tr>\n",
       "      <th>4</th>\n",
       "      <td>68.37</td>\n",
       "      <td>35</td>\n",
       "      <td>73889.99</td>\n",
       "      <td>225.58</td>\n",
       "      <td>Robust logistical utilization</td>\n",
       "      <td>South Manuel</td>\n",
       "      <td>0</td>\n",
       "      <td>Iceland</td>\n",
       "      <td>2016-06-03 03:36:18</td>\n",
       "      <td>0</td>\n",
       "    </tr>\n",
       "    <tr>\n",
       "      <th>5</th>\n",
       "      <td>59.99</td>\n",
       "      <td>23</td>\n",
       "      <td>59761.56</td>\n",
       "      <td>226.74</td>\n",
       "      <td>Sharable client-driven software</td>\n",
       "      <td>Jamieberg</td>\n",
       "      <td>1</td>\n",
       "      <td>Norway</td>\n",
       "      <td>2016-05-19 14:30:17</td>\n",
       "      <td>0</td>\n",
       "    </tr>\n",
       "    <tr>\n",
       "      <th>6</th>\n",
       "      <td>88.91</td>\n",
       "      <td>33</td>\n",
       "      <td>53852.85</td>\n",
       "      <td>208.36</td>\n",
       "      <td>Enhanced dedicated support</td>\n",
       "      <td>Brandonstad</td>\n",
       "      <td>0</td>\n",
       "      <td>Myanmar</td>\n",
       "      <td>2016-01-28 20:59:32</td>\n",
       "      <td>0</td>\n",
       "    </tr>\n",
       "    <tr>\n",
       "      <th>7</th>\n",
       "      <td>66.0</td>\n",
       "      <td>48</td>\n",
       "      <td>24593.33</td>\n",
       "      <td>131.76</td>\n",
       "      <td>Reactive local challenge</td>\n",
       "      <td>Port Jefferybury</td>\n",
       "      <td>1</td>\n",
       "      <td>Australia</td>\n",
       "      <td>2016-03-07 01:40:15</td>\n",
       "      <td>1</td>\n",
       "    </tr>\n",
       "    <tr>\n",
       "      <th>8</th>\n",
       "      <td>74.53</td>\n",
       "      <td>30</td>\n",
       "      <td>68862.00</td>\n",
       "      <td>221.51</td>\n",
       "      <td>Configurable coherent function</td>\n",
       "      <td>West Colin</td>\n",
       "      <td>1</td>\n",
       "      <td>Grenada</td>\n",
       "      <td>2016-04-18 09:33:42</td>\n",
       "      <td>0</td>\n",
       "    </tr>\n",
       "    <tr>\n",
       "      <th>9</th>\n",
       "      <td>69.88</td>\n",
       "      <td>20</td>\n",
       "      <td>55642.32</td>\n",
       "      <td>183.82</td>\n",
       "      <td>Mandatory homogeneous architecture</td>\n",
       "      <td>Ramirezton</td>\n",
       "      <td>1</td>\n",
       "      <td>Ghana</td>\n",
       "      <td>2016-07-11 01:42:51</td>\n",
       "      <td>0</td>\n",
       "    </tr>\n",
       "  </tbody>\n",
       "</table>\n",
       "</div>"
      ],
      "text/plain": [
       "  TimeSpent Age  AreaIncome  DailyInternetUsage  \\\n",
       "0     80.23  31    68441.85              193.77   \n",
       "1     74.15  29    54806.18              245.89   \n",
       "2     69.47  26    59785.94              236.50   \n",
       "3     74.15  29    54806.18              245.89   \n",
       "4     68.37  35    73889.99              225.58   \n",
       "5     59.99  23    59761.56              226.74   \n",
       "6     88.91  33    53852.85              208.36   \n",
       "7      66.0  48    24593.33              131.76   \n",
       "8     74.53  30    68862.00              221.51   \n",
       "9     69.88  20    55642.32              183.82   \n",
       "\n",
       "                              AdHeadline              City  Male     Country  \\\n",
       "0     Monitored national standardization         West Jodi     1       Nauru   \n",
       "1  Triple-buffered reciprocal time-frame                 ?     1       Italy   \n",
       "2       Organic bottom-line service-desk          Davidton     0  San Marino   \n",
       "3  Triple-buffered reciprocal time-frame    West Terrifurt     1       Italy   \n",
       "4          Robust logistical utilization      South Manuel     0     Iceland   \n",
       "5        Sharable client-driven software         Jamieberg     1      Norway   \n",
       "6             Enhanced dedicated support       Brandonstad     0     Myanmar   \n",
       "7               Reactive local challenge  Port Jefferybury     1   Australia   \n",
       "8         Configurable coherent function        West Colin     1     Grenada   \n",
       "9     Mandatory homogeneous architecture        Ramirezton     1       Ghana   \n",
       "\n",
       "             Timestamp  Clicked  \n",
       "0  2016-04-04 01:39:02        0  \n",
       "1  2016-01-10 02:31:19        0  \n",
       "2  2016-03-13 20:35:42        0  \n",
       "3  2016-01-10 02:31:19        0  \n",
       "4  2016-06-03 03:36:18        0  \n",
       "5  2016-05-19 14:30:17        0  \n",
       "6  2016-01-28 20:59:32        0  \n",
       "7  2016-03-07 01:40:15        1  \n",
       "8  2016-04-18 09:33:42        0  \n",
       "9  2016-07-11 01:42:51        0  "
      ]
     },
     "execution_count": 3,
     "metadata": {},
     "output_type": "execute_result"
    }
   ],
   "source": [
    "data.head(10)"
   ]
  },
  {
   "cell_type": "code",
   "execution_count": 4,
   "id": "f8bb596d",
   "metadata": {},
   "outputs": [
    {
     "name": "stdout",
     "output_type": "stream",
     "text": [
      "<class 'pandas.core.frame.DataFrame'>\n",
      "RangeIndex: 1010 entries, 0 to 1009\n",
      "Data columns (total 10 columns):\n",
      " #   Column              Non-Null Count  Dtype  \n",
      "---  ------              --------------  -----  \n",
      " 0   TimeSpent           1010 non-null   object \n",
      " 1   Age                 1010 non-null   object \n",
      " 2   AreaIncome          1010 non-null   float64\n",
      " 3   DailyInternetUsage  1010 non-null   float64\n",
      " 4   AdHeadline          1010 non-null   object \n",
      " 5   City                1010 non-null   object \n",
      " 6   Male                1010 non-null   int64  \n",
      " 7   Country             1010 non-null   object \n",
      " 8   Timestamp           1010 non-null   object \n",
      " 9   Clicked             1010 non-null   int64  \n",
      "dtypes: float64(2), int64(2), object(6)\n",
      "memory usage: 79.0+ KB\n"
     ]
    }
   ],
   "source": [
    "data.info()"
   ]
  },
  {
   "cell_type": "code",
   "execution_count": 5,
   "id": "43ce5b7e",
   "metadata": {},
   "outputs": [
    {
     "data": {
      "text/plain": [
       "pandas.core.frame.DataFrame"
      ]
     },
     "execution_count": 5,
     "metadata": {},
     "output_type": "execute_result"
    }
   ],
   "source": [
    "type(data)"
   ]
  },
  {
   "cell_type": "code",
   "execution_count": 6,
   "id": "08e76e08",
   "metadata": {},
   "outputs": [
    {
     "data": {
      "text/html": [
       "<div>\n",
       "<style scoped>\n",
       "    .dataframe tbody tr th:only-of-type {\n",
       "        vertical-align: middle;\n",
       "    }\n",
       "\n",
       "    .dataframe tbody tr th {\n",
       "        vertical-align: top;\n",
       "    }\n",
       "\n",
       "    .dataframe thead th {\n",
       "        text-align: right;\n",
       "    }\n",
       "</style>\n",
       "<table border=\"1\" class=\"dataframe\">\n",
       "  <thead>\n",
       "    <tr style=\"text-align: right;\">\n",
       "      <th></th>\n",
       "      <th>TimeSpent</th>\n",
       "      <th>Age</th>\n",
       "      <th>AreaIncome</th>\n",
       "      <th>DailyInternetUsage</th>\n",
       "      <th>AdHeadline</th>\n",
       "      <th>City</th>\n",
       "      <th>Male</th>\n",
       "      <th>Country</th>\n",
       "      <th>Timestamp</th>\n",
       "      <th>Clicked</th>\n",
       "    </tr>\n",
       "  </thead>\n",
       "  <tbody>\n",
       "    <tr>\n",
       "      <th>23</th>\n",
       "      <td>77.22</td>\n",
       "      <td>30</td>\n",
       "      <td>64802.33</td>\n",
       "      <td>224.44</td>\n",
       "      <td>Object-based reciprocal knowledgebase</td>\n",
       "      <td>Port Jacqueline</td>\n",
       "      <td>1</td>\n",
       "      <td>Cameroon</td>\n",
       "      <td>2016-01-05 07:52:48</td>\n",
       "      <td>0</td>\n",
       "    </tr>\n",
       "    <tr>\n",
       "      <th>35</th>\n",
       "      <td>67.64</td>\n",
       "      <td>35</td>\n",
       "      <td>51473.28</td>\n",
       "      <td>267.01</td>\n",
       "      <td>Programmable asymmetric data-warehouse</td>\n",
       "      <td>Phelpschester</td>\n",
       "      <td>1</td>\n",
       "      <td>Peru</td>\n",
       "      <td>2016-07-02 20:23:15</td>\n",
       "      <td>0</td>\n",
       "    </tr>\n",
       "    <tr>\n",
       "      <th>238</th>\n",
       "      <td>40.42</td>\n",
       "      <td>45</td>\n",
       "      <td>40183.75</td>\n",
       "      <td>133.90</td>\n",
       "      <td>Stand-alone reciprocal synergy</td>\n",
       "      <td>Lisamouth</td>\n",
       "      <td>1</td>\n",
       "      <td>Norway</td>\n",
       "      <td>2016-03-16 07:59:37</td>\n",
       "      <td>1</td>\n",
       "    </tr>\n",
       "    <tr>\n",
       "      <th>496</th>\n",
       "      <td>50.19</td>\n",
       "      <td>40</td>\n",
       "      <td>33987.27</td>\n",
       "      <td>117.30</td>\n",
       "      <td>Progressive uniform budgetary management</td>\n",
       "      <td>Lake Stephenborough</td>\n",
       "      <td>0</td>\n",
       "      <td>Thailand</td>\n",
       "      <td>2016-03-25 19:02:35</td>\n",
       "      <td>1</td>\n",
       "    </tr>\n",
       "  </tbody>\n",
       "</table>\n",
       "</div>"
      ],
      "text/plain": [
       "    TimeSpent Age  AreaIncome  DailyInternetUsage  \\\n",
       "23      77.22  30    64802.33              224.44   \n",
       "35      67.64  35    51473.28              267.01   \n",
       "238     40.42  45    40183.75              133.90   \n",
       "496     50.19  40    33987.27              117.30   \n",
       "\n",
       "                                   AdHeadline                 City  Male  \\\n",
       "23      Object-based reciprocal knowledgebase      Port Jacqueline     1   \n",
       "35     Programmable asymmetric data-warehouse        Phelpschester     1   \n",
       "238            Stand-alone reciprocal synergy            Lisamouth     1   \n",
       "496  Progressive uniform budgetary management  Lake Stephenborough     0   \n",
       "\n",
       "      Country            Timestamp  Clicked  \n",
       "23   Cameroon  2016-01-05 07:52:48        0  \n",
       "35       Peru  2016-07-02 20:23:15        0  \n",
       "238    Norway  2016-03-16 07:59:37        1  \n",
       "496  Thailand  2016-03-25 19:02:35        1  "
      ]
     },
     "execution_count": 6,
     "metadata": {},
     "output_type": "execute_result"
    }
   ],
   "source": [
    "data[data.duplicated()==True]"
   ]
  },
  {
   "cell_type": "code",
   "execution_count": 7,
   "id": "90c67fbc",
   "metadata": {},
   "outputs": [
    {
     "data": {
      "text/plain": [
       "4"
      ]
     },
     "execution_count": 7,
     "metadata": {},
     "output_type": "execute_result"
    }
   ],
   "source": [
    "data.duplicated().sum()"
   ]
  },
  {
   "cell_type": "code",
   "execution_count": 8,
   "id": "bb477e40",
   "metadata": {},
   "outputs": [
    {
     "data": {
      "text/html": [
       "<div>\n",
       "<style scoped>\n",
       "    .dataframe tbody tr th:only-of-type {\n",
       "        vertical-align: middle;\n",
       "    }\n",
       "\n",
       "    .dataframe tbody tr th {\n",
       "        vertical-align: top;\n",
       "    }\n",
       "\n",
       "    .dataframe thead th {\n",
       "        text-align: right;\n",
       "    }\n",
       "</style>\n",
       "<table border=\"1\" class=\"dataframe\">\n",
       "  <thead>\n",
       "    <tr style=\"text-align: right;\">\n",
       "      <th></th>\n",
       "      <th>TimeSpent</th>\n",
       "      <th>Age</th>\n",
       "      <th>AreaIncome</th>\n",
       "      <th>DailyInternetUsage</th>\n",
       "      <th>AdHeadline</th>\n",
       "      <th>City</th>\n",
       "      <th>Male</th>\n",
       "      <th>Country</th>\n",
       "      <th>Timestamp</th>\n",
       "      <th>Clicked</th>\n",
       "    </tr>\n",
       "  </thead>\n",
       "  <tbody>\n",
       "  </tbody>\n",
       "</table>\n",
       "</div>"
      ],
      "text/plain": [
       "Empty DataFrame\n",
       "Columns: [TimeSpent, Age, AreaIncome, DailyInternetUsage, AdHeadline, City, Male, Country, Timestamp, Clicked]\n",
       "Index: []"
      ]
     },
     "execution_count": 8,
     "metadata": {},
     "output_type": "execute_result"
    }
   ],
   "source": [
    "data.drop_duplicates(inplace=True)\n",
    "data[data.duplicated()==True]"
   ]
  },
  {
   "cell_type": "code",
   "execution_count": 9,
   "id": "87caf887",
   "metadata": {},
   "outputs": [
    {
     "data": {
      "text/html": [
       "<div>\n",
       "<style scoped>\n",
       "    .dataframe tbody tr th:only-of-type {\n",
       "        vertical-align: middle;\n",
       "    }\n",
       "\n",
       "    .dataframe tbody tr th {\n",
       "        vertical-align: top;\n",
       "    }\n",
       "\n",
       "    .dataframe thead th {\n",
       "        text-align: right;\n",
       "    }\n",
       "</style>\n",
       "<table border=\"1\" class=\"dataframe\">\n",
       "  <thead>\n",
       "    <tr style=\"text-align: right;\">\n",
       "      <th></th>\n",
       "      <th>TimeSpent</th>\n",
       "      <th>Age</th>\n",
       "      <th>AreaIncome</th>\n",
       "      <th>DailyInternetUsage</th>\n",
       "      <th>AdHeadline</th>\n",
       "      <th>City</th>\n",
       "      <th>Male</th>\n",
       "      <th>Country</th>\n",
       "      <th>Timestamp</th>\n",
       "      <th>Clicked</th>\n",
       "    </tr>\n",
       "  </thead>\n",
       "  <tbody>\n",
       "    <tr>\n",
       "      <th>908</th>\n",
       "      <td>?</td>\n",
       "      <td>43</td>\n",
       "      <td>53647.81</td>\n",
       "      <td>121.28</td>\n",
       "      <td>Monitored homogeneous artificial intelligence</td>\n",
       "      <td>Robertfurt</td>\n",
       "      <td>0</td>\n",
       "      <td>Macao</td>\n",
       "      <td>2016-06-26 02:34:15</td>\n",
       "      <td>1</td>\n",
       "    </tr>\n",
       "  </tbody>\n",
       "</table>\n",
       "</div>"
      ],
      "text/plain": [
       "    TimeSpent Age  AreaIncome  DailyInternetUsage  \\\n",
       "908         ?  43    53647.81              121.28   \n",
       "\n",
       "                                        AdHeadline        City  Male Country  \\\n",
       "908  Monitored homogeneous artificial intelligence  Robertfurt     0   Macao   \n",
       "\n",
       "               Timestamp  Clicked  \n",
       "908  2016-06-26 02:34:15        1  "
      ]
     },
     "execution_count": 9,
     "metadata": {},
     "output_type": "execute_result"
    }
   ],
   "source": [
    "data[data['TimeSpent']=='?']"
   ]
  },
  {
   "cell_type": "code",
   "execution_count": 10,
   "id": "41ed3f25",
   "metadata": {},
   "outputs": [
    {
     "data": {
      "text/html": [
       "<div>\n",
       "<style scoped>\n",
       "    .dataframe tbody tr th:only-of-type {\n",
       "        vertical-align: middle;\n",
       "    }\n",
       "\n",
       "    .dataframe tbody tr th {\n",
       "        vertical-align: top;\n",
       "    }\n",
       "\n",
       "    .dataframe thead th {\n",
       "        text-align: right;\n",
       "    }\n",
       "</style>\n",
       "<table border=\"1\" class=\"dataframe\">\n",
       "  <thead>\n",
       "    <tr style=\"text-align: right;\">\n",
       "      <th></th>\n",
       "      <th>TimeSpent</th>\n",
       "      <th>Age</th>\n",
       "      <th>AreaIncome</th>\n",
       "      <th>DailyInternetUsage</th>\n",
       "      <th>AdHeadline</th>\n",
       "      <th>City</th>\n",
       "      <th>Male</th>\n",
       "      <th>Country</th>\n",
       "      <th>Timestamp</th>\n",
       "      <th>Clicked</th>\n",
       "    </tr>\n",
       "  </thead>\n",
       "  <tbody>\n",
       "    <tr>\n",
       "      <th>31</th>\n",
       "      <td>67.64</td>\n",
       "      <td>35</td>\n",
       "      <td>51473.28</td>\n",
       "      <td>267.01</td>\n",
       "      <td>Programmable asymmetric data-warehouse</td>\n",
       "      <td>Phelpschester</td>\n",
       "      <td>1</td>\n",
       "      <td>Peru</td>\n",
       "      <td>2016-07-02 20:23:15</td>\n",
       "      <td>0</td>\n",
       "    </tr>\n",
       "    <tr>\n",
       "      <th>184</th>\n",
       "      <td>62.95</td>\n",
       "      <td>60</td>\n",
       "      <td>36752.24</td>\n",
       "      <td>157.04</td>\n",
       "      <td>Polarized tangible collaboration</td>\n",
       "      <td>Youngfort</td>\n",
       "      <td>0</td>\n",
       "      <td>Peru</td>\n",
       "      <td>2016-05-24 13:30:38</td>\n",
       "      <td>1</td>\n",
       "    </tr>\n",
       "    <tr>\n",
       "      <th>260</th>\n",
       "      <td>40.06</td>\n",
       "      <td>38</td>\n",
       "      <td>56782.18</td>\n",
       "      <td>138.68</td>\n",
       "      <td>Organized contextually-based customer loyalty</td>\n",
       "      <td>Olsonstad</td>\n",
       "      <td>1</td>\n",
       "      <td>Peru</td>\n",
       "      <td>2016-06-11 08:38:16</td>\n",
       "      <td>1</td>\n",
       "    </tr>\n",
       "    <tr>\n",
       "      <th>353</th>\n",
       "      <td>74.49</td>\n",
       "      <td>28</td>\n",
       "      <td>58996.12</td>\n",
       "      <td>237.34</td>\n",
       "      <td>Persevering eco-centric flexibility</td>\n",
       "      <td>Lake Adrian</td>\n",
       "      <td>0</td>\n",
       "      <td>Peru</td>\n",
       "      <td>2016-01-30 16:15:29</td>\n",
       "      <td>0</td>\n",
       "    </tr>\n",
       "    <tr>\n",
       "      <th>380</th>\n",
       "      <td>69.2</td>\n",
       "      <td>42</td>\n",
       "      <td>26023.99</td>\n",
       "      <td>123.80</td>\n",
       "      <td>Balanced value-added database</td>\n",
       "      <td>Meyersstad</td>\n",
       "      <td>0</td>\n",
       "      <td>Peru</td>\n",
       "      <td>2016-06-17 09:58:46</td>\n",
       "      <td>1</td>\n",
       "    </tr>\n",
       "    <tr>\n",
       "      <th>634</th>\n",
       "      <td>63.43</td>\n",
       "      <td>29</td>\n",
       "      <td>66504.16</td>\n",
       "      <td>236.75</td>\n",
       "      <td>Ergonomic 24/7 solution</td>\n",
       "      <td>New Shane</td>\n",
       "      <td>1</td>\n",
       "      <td>Peru</td>\n",
       "      <td>2016-04-15 10:18:55</td>\n",
       "      <td>0</td>\n",
       "    </tr>\n",
       "    <tr>\n",
       "      <th>639</th>\n",
       "      <td>35.76</td>\n",
       "      <td>51</td>\n",
       "      <td>45522.44</td>\n",
       "      <td>195.07</td>\n",
       "      <td>Versatile optimizing projection</td>\n",
       "      <td>North Angelastad</td>\n",
       "      <td>0</td>\n",
       "      <td>Peru</td>\n",
       "      <td>2016-07-18 04:53:22</td>\n",
       "      <td>1</td>\n",
       "    </tr>\n",
       "    <tr>\n",
       "      <th>904</th>\n",
       "      <td>35.66</td>\n",
       "      <td>45</td>\n",
       "      <td>46197.59</td>\n",
       "      <td>151.72</td>\n",
       "      <td>Exclusive cohesive intranet</td>\n",
       "      <td>Port Beth</td>\n",
       "      <td>0</td>\n",
       "      <td>Peru</td>\n",
       "      <td>2016-04-29 14:08:26</td>\n",
       "      <td>1</td>\n",
       "    </tr>\n",
       "  </tbody>\n",
       "</table>\n",
       "</div>"
      ],
      "text/plain": [
       "    TimeSpent Age  AreaIncome  DailyInternetUsage  \\\n",
       "31      67.64  35    51473.28              267.01   \n",
       "184     62.95  60    36752.24              157.04   \n",
       "260     40.06  38    56782.18              138.68   \n",
       "353     74.49  28    58996.12              237.34   \n",
       "380      69.2  42    26023.99              123.80   \n",
       "634     63.43  29    66504.16              236.75   \n",
       "639     35.76  51    45522.44              195.07   \n",
       "904     35.66  45    46197.59              151.72   \n",
       "\n",
       "                                        AdHeadline              City  Male  \\\n",
       "31          Programmable asymmetric data-warehouse     Phelpschester     1   \n",
       "184               Polarized tangible collaboration         Youngfort     0   \n",
       "260  Organized contextually-based customer loyalty         Olsonstad     1   \n",
       "353            Persevering eco-centric flexibility       Lake Adrian     0   \n",
       "380                  Balanced value-added database        Meyersstad     0   \n",
       "634                        Ergonomic 24/7 solution         New Shane     1   \n",
       "639                Versatile optimizing projection  North Angelastad     0   \n",
       "904                    Exclusive cohesive intranet         Port Beth     0   \n",
       "\n",
       "    Country            Timestamp  Clicked  \n",
       "31     Peru  2016-07-02 20:23:15        0  \n",
       "184    Peru  2016-05-24 13:30:38        1  \n",
       "260    Peru  2016-06-11 08:38:16        1  \n",
       "353    Peru  2016-01-30 16:15:29        0  \n",
       "380    Peru  2016-06-17 09:58:46        1  \n",
       "634    Peru  2016-04-15 10:18:55        0  \n",
       "639    Peru  2016-07-18 04:53:22        1  \n",
       "904    Peru  2016-04-29 14:08:26        1  "
      ]
     },
     "execution_count": 10,
     "metadata": {},
     "output_type": "execute_result"
    }
   ],
   "source": [
    "data[data['Country']=='Peru']"
   ]
  },
  {
   "cell_type": "code",
   "execution_count": 11,
   "id": "d3c1bca0",
   "metadata": {},
   "outputs": [
    {
     "data": {
      "text/plain": [
       "TimeSpent                                                         ?\n",
       "Age                                                              43\n",
       "AreaIncome                                                 53647.81\n",
       "DailyInternetUsage                                           121.28\n",
       "AdHeadline            Monitored homogeneous artificial intelligence\n",
       "City                                                     Robertfurt\n",
       "Male                                                              0\n",
       "Country                                                       Macao\n",
       "Timestamp                                       2016-06-26 02:34:15\n",
       "Clicked                                                           1\n",
       "Name: 908, dtype: object"
      ]
     },
     "execution_count": 11,
     "metadata": {},
     "output_type": "execute_result"
    }
   ],
   "source": [
    "data.loc[908]"
   ]
  },
  {
   "cell_type": "code",
   "execution_count": 12,
   "id": "01f58a45",
   "metadata": {},
   "outputs": [],
   "source": [
    "data.replace('?',np.nan,inplace=True)"
   ]
  },
  {
   "cell_type": "code",
   "execution_count": 13,
   "id": "e7730c55",
   "metadata": {},
   "outputs": [
    {
     "data": {
      "text/plain": [
       "TimeSpent                                                       NaN\n",
       "Age                                                              43\n",
       "AreaIncome                                                 53647.81\n",
       "DailyInternetUsage                                           121.28\n",
       "AdHeadline            Monitored homogeneous artificial intelligence\n",
       "City                                                     Robertfurt\n",
       "Male                                                              0\n",
       "Country                                                       Macao\n",
       "Timestamp                                       2016-06-26 02:34:15\n",
       "Clicked                                                           1\n",
       "Name: 908, dtype: object"
      ]
     },
     "execution_count": 13,
     "metadata": {},
     "output_type": "execute_result"
    }
   ],
   "source": [
    "data.loc[908]"
   ]
  },
  {
   "cell_type": "code",
   "execution_count": 14,
   "id": "a9087aaa",
   "metadata": {},
   "outputs": [],
   "source": [
    "data['TimeSpent'] = pd.to_numeric(data['TimeSpent'])\n",
    "data['Age'] = pd.to_numeric(data['Age'])"
   ]
  },
  {
   "cell_type": "code",
   "execution_count": 15,
   "id": "cfd71542",
   "metadata": {},
   "outputs": [
    {
     "name": "stdout",
     "output_type": "stream",
     "text": [
      "<class 'pandas.core.frame.DataFrame'>\n",
      "Int64Index: 1006 entries, 0 to 1009\n",
      "Data columns (total 10 columns):\n",
      " #   Column              Non-Null Count  Dtype  \n",
      "---  ------              --------------  -----  \n",
      " 0   TimeSpent           1005 non-null   float64\n",
      " 1   Age                 1004 non-null   float64\n",
      " 2   AreaIncome          1006 non-null   float64\n",
      " 3   DailyInternetUsage  1006 non-null   float64\n",
      " 4   AdHeadline          1004 non-null   object \n",
      " 5   City                1004 non-null   object \n",
      " 6   Male                1006 non-null   int64  \n",
      " 7   Country             1006 non-null   object \n",
      " 8   Timestamp           1006 non-null   object \n",
      " 9   Clicked             1006 non-null   int64  \n",
      "dtypes: float64(4), int64(2), object(4)\n",
      "memory usage: 118.7+ KB\n"
     ]
    }
   ],
   "source": [
    "data.info()"
   ]
  },
  {
   "cell_type": "code",
   "execution_count": 16,
   "id": "5cb919ac",
   "metadata": {},
   "outputs": [
    {
     "data": {
      "text/plain": [
       "TimeSpent             1\n",
       "Age                   2\n",
       "AreaIncome            0\n",
       "DailyInternetUsage    0\n",
       "AdHeadline            2\n",
       "City                  2\n",
       "Male                  0\n",
       "Country               0\n",
       "Timestamp             0\n",
       "Clicked               0\n",
       "dtype: int64"
      ]
     },
     "execution_count": 16,
     "metadata": {},
     "output_type": "execute_result"
    }
   ],
   "source": [
    "data.isnull().sum()"
   ]
  },
  {
   "cell_type": "code",
   "execution_count": 17,
   "id": "be354f65",
   "metadata": {},
   "outputs": [],
   "source": [
    "data['Age']=data['Age'].fillna(data['Age'].median())"
   ]
  },
  {
   "cell_type": "code",
   "execution_count": 18,
   "id": "beab904d",
   "metadata": {},
   "outputs": [
    {
     "data": {
      "text/plain": [
       "TimeSpent             1\n",
       "Age                   0\n",
       "AreaIncome            0\n",
       "DailyInternetUsage    0\n",
       "AdHeadline            2\n",
       "City                  2\n",
       "Male                  0\n",
       "Country               0\n",
       "Timestamp             0\n",
       "Clicked               0\n",
       "dtype: int64"
      ]
     },
     "execution_count": 18,
     "metadata": {},
     "output_type": "execute_result"
    }
   ],
   "source": [
    "data.isnull().sum()"
   ]
  },
  {
   "cell_type": "code",
   "execution_count": 19,
   "id": "d5d96f5d",
   "metadata": {},
   "outputs": [
    {
     "data": {
      "text/plain": [
       "TimeSpent             0\n",
       "Age                   0\n",
       "AreaIncome            0\n",
       "DailyInternetUsage    0\n",
       "AdHeadline            2\n",
       "City                  2\n",
       "Male                  0\n",
       "Country               0\n",
       "Timestamp             0\n",
       "Clicked               0\n",
       "dtype: int64"
      ]
     },
     "execution_count": 19,
     "metadata": {},
     "output_type": "execute_result"
    }
   ],
   "source": [
    "data['TimeSpent']=data['TimeSpent'].fillna(data['TimeSpent'].mean())\n",
    "data.isnull().sum()"
   ]
  },
  {
   "cell_type": "code",
   "execution_count": 20,
   "id": "1107775c",
   "metadata": {},
   "outputs": [],
   "source": [
    "data.dropna(inplace=True)"
   ]
  },
  {
   "cell_type": "code",
   "execution_count": 21,
   "id": "0dc7dc81",
   "metadata": {},
   "outputs": [
    {
     "data": {
      "text/plain": [
       "TimeSpent             0\n",
       "Age                   0\n",
       "AreaIncome            0\n",
       "DailyInternetUsage    0\n",
       "AdHeadline            0\n",
       "City                  0\n",
       "Male                  0\n",
       "Country               0\n",
       "Timestamp             0\n",
       "Clicked               0\n",
       "dtype: int64"
      ]
     },
     "execution_count": 21,
     "metadata": {},
     "output_type": "execute_result"
    }
   ],
   "source": [
    "data.isnull().sum()"
   ]
  },
  {
   "cell_type": "code",
   "execution_count": 22,
   "id": "26eede12",
   "metadata": {},
   "outputs": [
    {
     "name": "stdout",
     "output_type": "stream",
     "text": [
      "<class 'pandas.core.frame.DataFrame'>\n",
      "Int64Index: 1002 entries, 0 to 1009\n",
      "Data columns (total 10 columns):\n",
      " #   Column              Non-Null Count  Dtype  \n",
      "---  ------              --------------  -----  \n",
      " 0   TimeSpent           1002 non-null   float64\n",
      " 1   Age                 1002 non-null   float64\n",
      " 2   AreaIncome          1002 non-null   float64\n",
      " 3   DailyInternetUsage  1002 non-null   float64\n",
      " 4   AdHeadline          1002 non-null   object \n",
      " 5   City                1002 non-null   object \n",
      " 6   Male                1002 non-null   int64  \n",
      " 7   Country             1002 non-null   object \n",
      " 8   Timestamp           1002 non-null   object \n",
      " 9   Clicked             1002 non-null   int64  \n",
      "dtypes: float64(4), int64(2), object(4)\n",
      "memory usage: 86.1+ KB\n"
     ]
    }
   ],
   "source": [
    "data.info()"
   ]
  },
  {
   "cell_type": "code",
   "execution_count": 23,
   "id": "26c73364",
   "metadata": {},
   "outputs": [],
   "source": [
    "data.to_csv('./datasets/advertising_cleaned.csv',index=False)"
   ]
  },
  {
   "cell_type": "code",
   "execution_count": 24,
   "id": "b8b04704",
   "metadata": {},
   "outputs": [],
   "source": [
    "numeric = ['TimeSpent','Age','AreaIncome','DailyInternetUsage']"
   ]
  },
  {
   "cell_type": "code",
   "execution_count": 25,
   "id": "7e5096f9",
   "metadata": {},
   "outputs": [
    {
     "data": {
      "text/html": [
       "<div>\n",
       "<style scoped>\n",
       "    .dataframe tbody tr th:only-of-type {\n",
       "        vertical-align: middle;\n",
       "    }\n",
       "\n",
       "    .dataframe tbody tr th {\n",
       "        vertical-align: top;\n",
       "    }\n",
       "\n",
       "    .dataframe thead th {\n",
       "        text-align: right;\n",
       "    }\n",
       "</style>\n",
       "<table border=\"1\" class=\"dataframe\">\n",
       "  <thead>\n",
       "    <tr style=\"text-align: right;\">\n",
       "      <th></th>\n",
       "      <th>TimeSpent</th>\n",
       "      <th>Age</th>\n",
       "      <th>AreaIncome</th>\n",
       "      <th>DailyInternetUsage</th>\n",
       "    </tr>\n",
       "  </thead>\n",
       "  <tbody>\n",
       "    <tr>\n",
       "      <th>count</th>\n",
       "      <td>1002.000000</td>\n",
       "      <td>1002.000000</td>\n",
       "      <td>1002.000000</td>\n",
       "      <td>1002.000000</td>\n",
       "    </tr>\n",
       "    <tr>\n",
       "      <th>mean</th>\n",
       "      <td>64.974230</td>\n",
       "      <td>36.014970</td>\n",
       "      <td>55005.569910</td>\n",
       "      <td>179.763423</td>\n",
       "    </tr>\n",
       "    <tr>\n",
       "      <th>std</th>\n",
       "      <td>15.845378</td>\n",
       "      <td>8.779618</td>\n",
       "      <td>13405.677543</td>\n",
       "      <td>43.891491</td>\n",
       "    </tr>\n",
       "    <tr>\n",
       "      <th>min</th>\n",
       "      <td>32.600000</td>\n",
       "      <td>19.000000</td>\n",
       "      <td>13996.500000</td>\n",
       "      <td>104.780000</td>\n",
       "    </tr>\n",
       "    <tr>\n",
       "      <th>25%</th>\n",
       "      <td>51.320000</td>\n",
       "      <td>29.000000</td>\n",
       "      <td>47073.067500</td>\n",
       "      <td>138.582500</td>\n",
       "    </tr>\n",
       "    <tr>\n",
       "      <th>50%</th>\n",
       "      <td>68.105000</td>\n",
       "      <td>35.000000</td>\n",
       "      <td>56998.245000</td>\n",
       "      <td>182.650000</td>\n",
       "    </tr>\n",
       "    <tr>\n",
       "      <th>75%</th>\n",
       "      <td>78.537500</td>\n",
       "      <td>42.000000</td>\n",
       "      <td>65488.065000</td>\n",
       "      <td>218.580000</td>\n",
       "    </tr>\n",
       "    <tr>\n",
       "      <th>max</th>\n",
       "      <td>91.430000</td>\n",
       "      <td>61.000000</td>\n",
       "      <td>79484.800000</td>\n",
       "      <td>269.960000</td>\n",
       "    </tr>\n",
       "  </tbody>\n",
       "</table>\n",
       "</div>"
      ],
      "text/plain": [
       "         TimeSpent          Age    AreaIncome  DailyInternetUsage\n",
       "count  1002.000000  1002.000000   1002.000000         1002.000000\n",
       "mean     64.974230    36.014970  55005.569910          179.763423\n",
       "std      15.845378     8.779618  13405.677543           43.891491\n",
       "min      32.600000    19.000000  13996.500000          104.780000\n",
       "25%      51.320000    29.000000  47073.067500          138.582500\n",
       "50%      68.105000    35.000000  56998.245000          182.650000\n",
       "75%      78.537500    42.000000  65488.065000          218.580000\n",
       "max      91.430000    61.000000  79484.800000          269.960000"
      ]
     },
     "execution_count": 25,
     "metadata": {},
     "output_type": "execute_result"
    }
   ],
   "source": [
    "data[numeric].describe()"
   ]
  },
  {
   "cell_type": "code",
   "execution_count": 26,
   "id": "e203c2d4",
   "metadata": {},
   "outputs": [
    {
     "name": "stdout",
     "output_type": "stream",
     "text": [
      "<class 'pandas.core.frame.DataFrame'>\n",
      "Int64Index: 1002 entries, 0 to 1009\n",
      "Data columns (total 10 columns):\n",
      " #   Column              Non-Null Count  Dtype  \n",
      "---  ------              --------------  -----  \n",
      " 0   TimeSpent           1002 non-null   float64\n",
      " 1   Age                 1002 non-null   float64\n",
      " 2   AreaIncome          1002 non-null   float64\n",
      " 3   DailyInternetUsage  1002 non-null   float64\n",
      " 4   AdHeadline          1002 non-null   object \n",
      " 5   City                1002 non-null   object \n",
      " 6   Male                1002 non-null   int64  \n",
      " 7   Country             1002 non-null   object \n",
      " 8   Timestamp           1002 non-null   object \n",
      " 9   Clicked             1002 non-null   int64  \n",
      "dtypes: float64(4), int64(2), object(4)\n",
      "memory usage: 86.1+ KB\n"
     ]
    }
   ],
   "source": [
    "data.info()"
   ]
  },
  {
   "cell_type": "code",
   "execution_count": 27,
   "id": "4a7ea898",
   "metadata": {},
   "outputs": [],
   "source": [
    "categorical = ['AdHeadline','City','Male','Country','Clicked']"
   ]
  },
  {
   "cell_type": "code",
   "execution_count": 28,
   "id": "6a0f3d1b",
   "metadata": {},
   "outputs": [
    {
     "data": {
      "text/html": [
       "<div>\n",
       "<style scoped>\n",
       "    .dataframe tbody tr th:only-of-type {\n",
       "        vertical-align: middle;\n",
       "    }\n",
       "\n",
       "    .dataframe tbody tr th {\n",
       "        vertical-align: top;\n",
       "    }\n",
       "\n",
       "    .dataframe thead th {\n",
       "        text-align: right;\n",
       "    }\n",
       "</style>\n",
       "<table border=\"1\" class=\"dataframe\">\n",
       "  <thead>\n",
       "    <tr style=\"text-align: right;\">\n",
       "      <th></th>\n",
       "      <th>Male</th>\n",
       "      <th>Clicked</th>\n",
       "    </tr>\n",
       "  </thead>\n",
       "  <tbody>\n",
       "    <tr>\n",
       "      <th>count</th>\n",
       "      <td>1002.000000</td>\n",
       "      <td>1002.000000</td>\n",
       "    </tr>\n",
       "    <tr>\n",
       "      <th>mean</th>\n",
       "      <td>0.482036</td>\n",
       "      <td>0.501996</td>\n",
       "    </tr>\n",
       "    <tr>\n",
       "      <th>std</th>\n",
       "      <td>0.499927</td>\n",
       "      <td>0.500246</td>\n",
       "    </tr>\n",
       "    <tr>\n",
       "      <th>min</th>\n",
       "      <td>0.000000</td>\n",
       "      <td>0.000000</td>\n",
       "    </tr>\n",
       "    <tr>\n",
       "      <th>25%</th>\n",
       "      <td>0.000000</td>\n",
       "      <td>0.000000</td>\n",
       "    </tr>\n",
       "    <tr>\n",
       "      <th>50%</th>\n",
       "      <td>0.000000</td>\n",
       "      <td>1.000000</td>\n",
       "    </tr>\n",
       "    <tr>\n",
       "      <th>75%</th>\n",
       "      <td>1.000000</td>\n",
       "      <td>1.000000</td>\n",
       "    </tr>\n",
       "    <tr>\n",
       "      <th>max</th>\n",
       "      <td>1.000000</td>\n",
       "      <td>1.000000</td>\n",
       "    </tr>\n",
       "  </tbody>\n",
       "</table>\n",
       "</div>"
      ],
      "text/plain": [
       "              Male      Clicked\n",
       "count  1002.000000  1002.000000\n",
       "mean      0.482036     0.501996\n",
       "std       0.499927     0.500246\n",
       "min       0.000000     0.000000\n",
       "25%       0.000000     0.000000\n",
       "50%       0.000000     1.000000\n",
       "75%       1.000000     1.000000\n",
       "max       1.000000     1.000000"
      ]
     },
     "execution_count": 28,
     "metadata": {},
     "output_type": "execute_result"
    }
   ],
   "source": [
    "data[categorical].describe()"
   ]
  },
  {
   "cell_type": "code",
   "execution_count": 29,
   "id": "8937a602",
   "metadata": {},
   "outputs": [],
   "source": [
    "data = pd.read_csv('./datasets/advertising_cleaned.csv',\n",
    "                 names=['TimeSpent', 'Age', 'AreaIncome', \n",
    "                          'DailyInternetUsage', 'AdHeadline', \n",
    "                          'City', 'Male', 'Country', 'Timestamp', \n",
    "                          'Clicked'],\n",
    "                 header=1)"
   ]
  },
  {
   "cell_type": "code",
   "execution_count": 30,
   "id": "ca77ec67",
   "metadata": {},
   "outputs": [],
   "source": [
    "categorical = ['AdHeadline', 'City',\n",
    "               'Male', 'Country', 'Clicked']"
   ]
  },
  {
   "cell_type": "code",
   "execution_count": 31,
   "id": "d9cbd0f1",
   "metadata": {},
   "outputs": [
    {
     "data": {
      "text/html": [
       "<div>\n",
       "<style scoped>\n",
       "    .dataframe tbody tr th:only-of-type {\n",
       "        vertical-align: middle;\n",
       "    }\n",
       "\n",
       "    .dataframe tbody tr th {\n",
       "        vertical-align: top;\n",
       "    }\n",
       "\n",
       "    .dataframe thead th {\n",
       "        text-align: right;\n",
       "    }\n",
       "</style>\n",
       "<table border=\"1\" class=\"dataframe\">\n",
       "  <thead>\n",
       "    <tr style=\"text-align: right;\">\n",
       "      <th></th>\n",
       "      <th>AdHeadline</th>\n",
       "      <th>City</th>\n",
       "      <th>Country</th>\n",
       "    </tr>\n",
       "  </thead>\n",
       "  <tbody>\n",
       "    <tr>\n",
       "      <th>count</th>\n",
       "      <td>1001</td>\n",
       "      <td>1001</td>\n",
       "      <td>1001</td>\n",
       "    </tr>\n",
       "    <tr>\n",
       "      <th>unique</th>\n",
       "      <td>998</td>\n",
       "      <td>968</td>\n",
       "      <td>237</td>\n",
       "    </tr>\n",
       "    <tr>\n",
       "      <th>top</th>\n",
       "      <td>Grass-roots cohesive monitoring</td>\n",
       "      <td>Williamsport</td>\n",
       "      <td>France</td>\n",
       "    </tr>\n",
       "    <tr>\n",
       "      <th>freq</th>\n",
       "      <td>2</td>\n",
       "      <td>3</td>\n",
       "      <td>9</td>\n",
       "    </tr>\n",
       "  </tbody>\n",
       "</table>\n",
       "</div>"
      ],
      "text/plain": [
       "                             AdHeadline          City Country\n",
       "count                              1001          1001    1001\n",
       "unique                              998           968     237\n",
       "top     Grass-roots cohesive monitoring  Williamsport  France\n",
       "freq                                  2             3       9"
      ]
     },
     "execution_count": 31,
     "metadata": {},
     "output_type": "execute_result"
    }
   ],
   "source": [
    "data[categorical].describe(include = ['O'])"
   ]
  },
  {
   "cell_type": "code",
   "execution_count": 32,
   "id": "44d9ae73",
   "metadata": {},
   "outputs": [
    {
     "name": "stderr",
     "output_type": "stream",
     "text": [
      "C:\\Users\\there\\AppData\\Local\\Temp\\ipykernel_25520\\3213318111.py:2: FutureWarning: In a future version of pandas all arguments of DataFrame.sort_values except for the argument 'by' will be keyword-only.\n",
      "  data['Clicked']).sort_values(1, 0, ascending = False).head(15)\n"
     ]
    },
    {
     "data": {
      "text/html": [
       "<div>\n",
       "<style scoped>\n",
       "    .dataframe tbody tr th:only-of-type {\n",
       "        vertical-align: middle;\n",
       "    }\n",
       "\n",
       "    .dataframe tbody tr th {\n",
       "        vertical-align: top;\n",
       "    }\n",
       "\n",
       "    .dataframe thead th {\n",
       "        text-align: right;\n",
       "    }\n",
       "</style>\n",
       "<table border=\"1\" class=\"dataframe\">\n",
       "  <thead>\n",
       "    <tr style=\"text-align: right;\">\n",
       "      <th>Clicked</th>\n",
       "      <th>0</th>\n",
       "      <th>1</th>\n",
       "    </tr>\n",
       "    <tr>\n",
       "      <th>Country</th>\n",
       "      <th></th>\n",
       "      <th></th>\n",
       "    </tr>\n",
       "  </thead>\n",
       "  <tbody>\n",
       "    <tr>\n",
       "      <th>Australia</th>\n",
       "      <td>1</td>\n",
       "      <td>7</td>\n",
       "    </tr>\n",
       "    <tr>\n",
       "      <th>Turkey</th>\n",
       "      <td>1</td>\n",
       "      <td>7</td>\n",
       "    </tr>\n",
       "    <tr>\n",
       "      <th>Ethiopia</th>\n",
       "      <td>0</td>\n",
       "      <td>7</td>\n",
       "    </tr>\n",
       "    <tr>\n",
       "      <th>Liberia</th>\n",
       "      <td>2</td>\n",
       "      <td>6</td>\n",
       "    </tr>\n",
       "    <tr>\n",
       "      <th>South Africa</th>\n",
       "      <td>2</td>\n",
       "      <td>6</td>\n",
       "    </tr>\n",
       "    <tr>\n",
       "      <th>Liechtenstein</th>\n",
       "      <td>0</td>\n",
       "      <td>6</td>\n",
       "    </tr>\n",
       "    <tr>\n",
       "      <th>Senegal</th>\n",
       "      <td>3</td>\n",
       "      <td>5</td>\n",
       "    </tr>\n",
       "    <tr>\n",
       "      <th>Peru</th>\n",
       "      <td>3</td>\n",
       "      <td>5</td>\n",
       "    </tr>\n",
       "    <tr>\n",
       "      <th>Mayotte</th>\n",
       "      <td>1</td>\n",
       "      <td>5</td>\n",
       "    </tr>\n",
       "    <tr>\n",
       "      <th>Hungary</th>\n",
       "      <td>1</td>\n",
       "      <td>5</td>\n",
       "    </tr>\n",
       "    <tr>\n",
       "      <th>France</th>\n",
       "      <td>4</td>\n",
       "      <td>5</td>\n",
       "    </tr>\n",
       "    <tr>\n",
       "      <th>Afghanistan</th>\n",
       "      <td>3</td>\n",
       "      <td>5</td>\n",
       "    </tr>\n",
       "    <tr>\n",
       "      <th>Zimbabwe</th>\n",
       "      <td>2</td>\n",
       "      <td>5</td>\n",
       "    </tr>\n",
       "    <tr>\n",
       "      <th>Indonesia</th>\n",
       "      <td>2</td>\n",
       "      <td>4</td>\n",
       "    </tr>\n",
       "    <tr>\n",
       "      <th>Christmas Island</th>\n",
       "      <td>2</td>\n",
       "      <td>4</td>\n",
       "    </tr>\n",
       "  </tbody>\n",
       "</table>\n",
       "</div>"
      ],
      "text/plain": [
       "Clicked           0  1\n",
       "Country               \n",
       "Australia         1  7\n",
       "Turkey            1  7\n",
       "Ethiopia          0  7\n",
       "Liberia           2  6\n",
       "South Africa      2  6\n",
       "Liechtenstein     0  6\n",
       "Senegal           3  5\n",
       "Peru              3  5\n",
       "Mayotte           1  5\n",
       "Hungary           1  5\n",
       "France            4  5\n",
       "Afghanistan       3  5\n",
       "Zimbabwe          2  5\n",
       "Indonesia         2  4\n",
       "Christmas Island  2  4"
      ]
     },
     "execution_count": 32,
     "metadata": {},
     "output_type": "execute_result"
    }
   ],
   "source": [
    "pd.crosstab(data['Country'],\n",
    "            data['Clicked']).sort_values(1, 0, ascending = False).head(15)"
   ]
  },
  {
   "cell_type": "code",
   "execution_count": 33,
   "id": "27ed4278",
   "metadata": {},
   "outputs": [
    {
     "data": {
      "text/html": [
       "<div>\n",
       "<style scoped>\n",
       "    .dataframe tbody tr th:only-of-type {\n",
       "        vertical-align: middle;\n",
       "    }\n",
       "\n",
       "    .dataframe tbody tr th {\n",
       "        vertical-align: top;\n",
       "    }\n",
       "\n",
       "    .dataframe thead th {\n",
       "        text-align: right;\n",
       "    }\n",
       "</style>\n",
       "<table border=\"1\" class=\"dataframe\">\n",
       "  <thead>\n",
       "    <tr style=\"text-align: right;\">\n",
       "      <th>col_0</th>\n",
       "      <th>count</th>\n",
       "    </tr>\n",
       "    <tr>\n",
       "      <th>Country</th>\n",
       "      <th></th>\n",
       "    </tr>\n",
       "  </thead>\n",
       "  <tbody>\n",
       "    <tr>\n",
       "      <th>France</th>\n",
       "      <td>9</td>\n",
       "    </tr>\n",
       "    <tr>\n",
       "      <th>Czech Republic</th>\n",
       "      <td>9</td>\n",
       "    </tr>\n",
       "    <tr>\n",
       "      <th>Afghanistan</th>\n",
       "      <td>8</td>\n",
       "    </tr>\n",
       "    <tr>\n",
       "      <th>Australia</th>\n",
       "      <td>8</td>\n",
       "    </tr>\n",
       "    <tr>\n",
       "      <th>Turkey</th>\n",
       "      <td>8</td>\n",
       "    </tr>\n",
       "    <tr>\n",
       "      <th>South Africa</th>\n",
       "      <td>8</td>\n",
       "    </tr>\n",
       "    <tr>\n",
       "      <th>Senegal</th>\n",
       "      <td>8</td>\n",
       "    </tr>\n",
       "    <tr>\n",
       "      <th>Peru</th>\n",
       "      <td>8</td>\n",
       "    </tr>\n",
       "    <tr>\n",
       "      <th>Micronesia</th>\n",
       "      <td>8</td>\n",
       "    </tr>\n",
       "    <tr>\n",
       "      <th>Greece</th>\n",
       "      <td>8</td>\n",
       "    </tr>\n",
       "  </tbody>\n",
       "</table>\n",
       "</div>"
      ],
      "text/plain": [
       "col_0           count\n",
       "Country              \n",
       "France              9\n",
       "Czech Republic      9\n",
       "Afghanistan         8\n",
       "Australia           8\n",
       "Turkey              8\n",
       "South Africa        8\n",
       "Senegal             8\n",
       "Peru                8\n",
       "Micronesia          8\n",
       "Greece              8"
      ]
     },
     "execution_count": 33,
     "metadata": {},
     "output_type": "execute_result"
    }
   ],
   "source": [
    "pd.crosstab(index = data['Country'],\n",
    "            columns = 'count').sort_values(['count'], ascending = False).head(10)"
   ]
  },
  {
   "cell_type": "code",
   "execution_count": 34,
   "id": "eb1b7d24",
   "metadata": {},
   "outputs": [],
   "source": [
    "data['Timestamp'] = pd.to_datetime(data['Timestamp']) \n",
    "\n",
    "data['Month'] = data['Timestamp'].dt.month\n",
    "\n",
    "data['Day'] = data['Timestamp'].dt.day\n",
    "\n",
    "data['Hour'] = data['Timestamp'].dt.hour "
   ]
  },
  {
   "cell_type": "code",
   "execution_count": 35,
   "id": "2b21d327",
   "metadata": {},
   "outputs": [],
   "source": [
    "data[\"Weekday\"] = data['Timestamp'].dt.dayofweek "
   ]
  },
  {
   "cell_type": "code",
   "execution_count": 36,
   "id": "4440abf4",
   "metadata": {},
   "outputs": [],
   "source": [
    "data = data.drop(['Timestamp'], axis=1)"
   ]
  },
  {
   "cell_type": "code",
   "execution_count": 37,
   "id": "853b9f66",
   "metadata": {},
   "outputs": [
    {
     "data": {
      "text/html": [
       "<div>\n",
       "<style scoped>\n",
       "    .dataframe tbody tr th:only-of-type {\n",
       "        vertical-align: middle;\n",
       "    }\n",
       "\n",
       "    .dataframe tbody tr th {\n",
       "        vertical-align: top;\n",
       "    }\n",
       "\n",
       "    .dataframe thead th {\n",
       "        text-align: right;\n",
       "    }\n",
       "</style>\n",
       "<table border=\"1\" class=\"dataframe\">\n",
       "  <thead>\n",
       "    <tr style=\"text-align: right;\">\n",
       "      <th></th>\n",
       "      <th>TimeSpent</th>\n",
       "      <th>Age</th>\n",
       "      <th>AreaIncome</th>\n",
       "      <th>DailyInternetUsage</th>\n",
       "      <th>AdHeadline</th>\n",
       "      <th>City</th>\n",
       "      <th>Male</th>\n",
       "      <th>Country</th>\n",
       "      <th>Clicked</th>\n",
       "      <th>Month</th>\n",
       "      <th>Day</th>\n",
       "      <th>Hour</th>\n",
       "      <th>Weekday</th>\n",
       "    </tr>\n",
       "  </thead>\n",
       "  <tbody>\n",
       "    <tr>\n",
       "      <th>0</th>\n",
       "      <td>69.47</td>\n",
       "      <td>26.0</td>\n",
       "      <td>59785.94</td>\n",
       "      <td>236.50</td>\n",
       "      <td>Organic bottom-line service-desk</td>\n",
       "      <td>Davidton</td>\n",
       "      <td>0</td>\n",
       "      <td>San Marino</td>\n",
       "      <td>0</td>\n",
       "      <td>3</td>\n",
       "      <td>13</td>\n",
       "      <td>20</td>\n",
       "      <td>6</td>\n",
       "    </tr>\n",
       "    <tr>\n",
       "      <th>1</th>\n",
       "      <td>74.15</td>\n",
       "      <td>29.0</td>\n",
       "      <td>54806.18</td>\n",
       "      <td>245.89</td>\n",
       "      <td>Triple-buffered reciprocal time-frame</td>\n",
       "      <td>West Terrifurt</td>\n",
       "      <td>1</td>\n",
       "      <td>Italy</td>\n",
       "      <td>0</td>\n",
       "      <td>1</td>\n",
       "      <td>10</td>\n",
       "      <td>2</td>\n",
       "      <td>6</td>\n",
       "    </tr>\n",
       "    <tr>\n",
       "      <th>2</th>\n",
       "      <td>68.37</td>\n",
       "      <td>35.0</td>\n",
       "      <td>73889.99</td>\n",
       "      <td>225.58</td>\n",
       "      <td>Robust logistical utilization</td>\n",
       "      <td>South Manuel</td>\n",
       "      <td>0</td>\n",
       "      <td>Iceland</td>\n",
       "      <td>0</td>\n",
       "      <td>6</td>\n",
       "      <td>3</td>\n",
       "      <td>3</td>\n",
       "      <td>4</td>\n",
       "    </tr>\n",
       "    <tr>\n",
       "      <th>3</th>\n",
       "      <td>59.99</td>\n",
       "      <td>23.0</td>\n",
       "      <td>59761.56</td>\n",
       "      <td>226.74</td>\n",
       "      <td>Sharable client-driven software</td>\n",
       "      <td>Jamieberg</td>\n",
       "      <td>1</td>\n",
       "      <td>Norway</td>\n",
       "      <td>0</td>\n",
       "      <td>5</td>\n",
       "      <td>19</td>\n",
       "      <td>14</td>\n",
       "      <td>3</td>\n",
       "    </tr>\n",
       "    <tr>\n",
       "      <th>4</th>\n",
       "      <td>88.91</td>\n",
       "      <td>33.0</td>\n",
       "      <td>53852.85</td>\n",
       "      <td>208.36</td>\n",
       "      <td>Enhanced dedicated support</td>\n",
       "      <td>Brandonstad</td>\n",
       "      <td>0</td>\n",
       "      <td>Myanmar</td>\n",
       "      <td>0</td>\n",
       "      <td>1</td>\n",
       "      <td>28</td>\n",
       "      <td>20</td>\n",
       "      <td>3</td>\n",
       "    </tr>\n",
       "  </tbody>\n",
       "</table>\n",
       "</div>"
      ],
      "text/plain": [
       "   TimeSpent   Age  AreaIncome  DailyInternetUsage  \\\n",
       "0      69.47  26.0    59785.94              236.50   \n",
       "1      74.15  29.0    54806.18              245.89   \n",
       "2      68.37  35.0    73889.99              225.58   \n",
       "3      59.99  23.0    59761.56              226.74   \n",
       "4      88.91  33.0    53852.85              208.36   \n",
       "\n",
       "                              AdHeadline            City  Male     Country  \\\n",
       "0       Organic bottom-line service-desk        Davidton     0  San Marino   \n",
       "1  Triple-buffered reciprocal time-frame  West Terrifurt     1       Italy   \n",
       "2          Robust logistical utilization    South Manuel     0     Iceland   \n",
       "3        Sharable client-driven software       Jamieberg     1      Norway   \n",
       "4             Enhanced dedicated support     Brandonstad     0     Myanmar   \n",
       "\n",
       "   Clicked  Month  Day  Hour  Weekday  \n",
       "0        0      3   13    20        6  \n",
       "1        0      1   10     2        6  \n",
       "2        0      6    3     3        4  \n",
       "3        0      5   19    14        3  \n",
       "4        0      1   28    20        3  "
      ]
     },
     "execution_count": 37,
     "metadata": {},
     "output_type": "execute_result"
    }
   ],
   "source": [
    "data.head()"
   ]
  },
  {
   "cell_type": "code",
   "execution_count": 38,
   "id": "49483431",
   "metadata": {},
   "outputs": [],
   "source": [
    "import matplotlib.pyplot as plt  #This line fixed AttributeError: module 'matplotlib' has no attribute 'xlabel'"
   ]
  },
  {
   "cell_type": "code",
   "execution_count": 39,
   "id": "b249cc29",
   "metadata": {},
   "outputs": [
    {
     "data": {
      "image/png": "[encoded data removed]",
      "text/plain": [
       "<Figure size 800x600 with 1 Axes>"
      ]
     },
     "metadata": {},
     "output_type": "display_data"
    }
   ],
   "source": [
    "data['Clicked'].value_counts().plot(kind = 'bar', figsize=(8,6))\n",
    "\n",
    "plt.xlabel('clicked on ad')\n",
    "plt.ylabel('count')\n",
    "\n",
    "\n",
    "plt.show()"
   ]
  },
  {
   "cell_type": "code",
   "execution_count": 40,
   "id": "82efa2f1",
   "metadata": {},
   "outputs": [
    {
     "data": {
      "text/plain": [
       "<Axes: xlabel='Month'>"
      ]
     },
     "execution_count": 40,
     "metadata": {},
     "output_type": "execute_result"
    },
    {
     "data": {
      "image/png": "[encoded data removed]",
      "text/plain": [
       "<Figure size 1000x600 with 1 Axes>"
      ]
     },
     "metadata": {},
     "output_type": "display_data"
    }
   ],
   "source": [
    "monthly_data = data.groupby(['Month'])['Clicked'].sum()\n",
    "\n",
    "monthly_data.plot(figsize=(10, 6))"
   ]
  },
  {
   "cell_type": "code",
   "execution_count": 41,
   "id": "37bffaad",
   "metadata": {},
   "outputs": [
    {
     "data": {
      "text/plain": [
       "<Axes: xlabel='Weekday'>"
      ]
     },
     "execution_count": 41,
     "metadata": {},
     "output_type": "execute_result"
    },
    {
     "data": {
      "image/png": "[encoded data removed]",
      "text/plain": [
       "<Figure size 1500x500 with 2 Axes>"
      ]
     },
     "metadata": {},
     "output_type": "display_data"
    }
   ],
   "source": [
    "f, ax = plt.subplots(1, 2, figsize = (15,5)) # nrows=1, ncols=2\n",
    "\n",
    "pd.crosstab(data[\"Clicked\"], data[\"Hour\"]).T.plot(ax = ax[0])\n",
    "\n",
    "pd.pivot_table(data, index = ['Weekday'],\n",
    "               values = ['Clicked'],\n",
    "               aggfunc = np.sum).plot(kind = 'bar', ax = ax[1])\n"
   ]
  },
  {
   "cell_type": "code",
   "execution_count": 42,
   "id": "3c98cbf2",
   "metadata": {},
   "outputs": [
    {
     "name": "stderr",
     "output_type": "stream",
     "text": [
      "C:\\Users\\there\\AppData\\Local\\Temp\\ipykernel_25520\\466211612.py:1: FutureWarning: Indexing with multiple keys (implicitly converted to a tuple of keys) will be deprecated, use a list instead.\n",
      "  data.groupby('Clicked')['TimeSpent',\n"
     ]
    },
    {
     "data": {
      "text/html": [
       "<div>\n",
       "<style scoped>\n",
       "    .dataframe tbody tr th:only-of-type {\n",
       "        vertical-align: middle;\n",
       "    }\n",
       "\n",
       "    .dataframe tbody tr th {\n",
       "        vertical-align: top;\n",
       "    }\n",
       "\n",
       "    .dataframe thead th {\n",
       "        text-align: right;\n",
       "    }\n",
       "</style>\n",
       "<table border=\"1\" class=\"dataframe\">\n",
       "  <thead>\n",
       "    <tr style=\"text-align: right;\">\n",
       "      <th></th>\n",
       "      <th>TimeSpent</th>\n",
       "      <th>Age</th>\n",
       "      <th>AreaIncome</th>\n",
       "      <th>DailyInternetUsage</th>\n",
       "    </tr>\n",
       "    <tr>\n",
       "      <th>Clicked</th>\n",
       "      <th></th>\n",
       "      <th></th>\n",
       "      <th></th>\n",
       "      <th></th>\n",
       "    </tr>\n",
       "  </thead>\n",
       "  <tbody>\n",
       "    <tr>\n",
       "      <th>0</th>\n",
       "      <td>76.863715</td>\n",
       "      <td>31.678715</td>\n",
       "      <td>61370.516988</td>\n",
       "      <td>214.471908</td>\n",
       "    </tr>\n",
       "    <tr>\n",
       "      <th>1</th>\n",
       "      <td>53.172601</td>\n",
       "      <td>40.318091</td>\n",
       "      <td>48677.180398</td>\n",
       "      <td>145.372107</td>\n",
       "    </tr>\n",
       "  </tbody>\n",
       "</table>\n",
       "</div>"
      ],
      "text/plain": [
       "         TimeSpent        Age    AreaIncome  DailyInternetUsage\n",
       "Clicked                                                        \n",
       "0        76.863715  31.678715  61370.516988          214.471908\n",
       "1        53.172601  40.318091  48677.180398          145.372107"
      ]
     },
     "execution_count": 42,
     "metadata": {},
     "output_type": "execute_result"
    }
   ],
   "source": [
    "data.groupby('Clicked')['TimeSpent',\n",
    "                        'Age', \n",
    "                        'AreaIncome', \n",
    "                        'DailyInternetUsage'].mean()"
   ]
  },
  {
   "cell_type": "code",
   "execution_count": 43,
   "id": "78f0512c",
   "metadata": {},
   "outputs": [
    {
     "name": "stdout",
     "output_type": "stream",
     "text": [
      "Defaulting to user installation because normal site-packages is not writeable\n",
      "Requirement already satisfied: seaborn in c:\\users\\there\\appdata\\roaming\\python\\python311\\site-packages (0.13.2)\n",
      "Requirement already satisfied: numpy!=1.24.0,>=1.20 in c:\\programdata\\anaconda3\\lib\\site-packages (from seaborn) (1.24.3)\n",
      "Requirement already satisfied: pandas>=1.2 in c:\\programdata\\anaconda3\\lib\\site-packages (from seaborn) (1.5.3)\n",
      "Requirement already satisfied: matplotlib!=3.6.1,>=3.4 in c:\\programdata\\anaconda3\\lib\\site-packages (from seaborn) (3.7.1)\n",
      "Requirement already satisfied: contourpy>=1.0.1 in c:\\programdata\\anaconda3\\lib\\site-packages (from matplotlib!=3.6.1,>=3.4->seaborn) (1.0.5)\n",
      "Requirement already satisfied: cycler>=0.10 in c:\\programdata\\anaconda3\\lib\\site-packages (from matplotlib!=3.6.1,>=3.4->seaborn) (0.11.0)\n",
      "Requirement already satisfied: fonttools>=4.22.0 in c:\\programdata\\anaconda3\\lib\\site-packages (from matplotlib!=3.6.1,>=3.4->seaborn) (4.25.0)\n",
      "Requirement already satisfied: kiwisolver>=1.0.1 in c:\\programdata\\anaconda3\\lib\\site-packages (from matplotlib!=3.6.1,>=3.4->seaborn) (1.4.4)\n",
      "Requirement already satisfied: packaging>=20.0 in c:\\programdata\\anaconda3\\lib\\site-packages (from matplotlib!=3.6.1,>=3.4->seaborn) (23.0)\n",
      "Requirement already satisfied: pillow>=6.2.0 in c:\\programdata\\anaconda3\\lib\\site-packages (from matplotlib!=3.6.1,>=3.4->seaborn) (9.4.0)\n",
      "Requirement already satisfied: pyparsing>=2.3.1 in c:\\programdata\\anaconda3\\lib\\site-packages (from matplotlib!=3.6.1,>=3.4->seaborn) (3.0.9)\n",
      "Requirement already satisfied: python-dateutil>=2.7 in c:\\programdata\\anaconda3\\lib\\site-packages (from matplotlib!=3.6.1,>=3.4->seaborn) (2.8.2)\n",
      "Requirement already satisfied: pytz>=2020.1 in c:\\programdata\\anaconda3\\lib\\site-packages (from pandas>=1.2->seaborn) (2022.7)\n",
      "Requirement already satisfied: six>=1.5 in c:\\programdata\\anaconda3\\lib\\site-packages (from python-dateutil>=2.7->matplotlib!=3.6.1,>=3.4->seaborn) (1.16.0)\n"
     ]
    }
   ],
   "source": [
    "!pip install seaborn --upgrade"
   ]
  },
  {
   "cell_type": "code",
   "execution_count": 44,
   "id": "11d4e31d",
   "metadata": {},
   "outputs": [],
   "source": [
    "import seaborn as sns"
   ]
  },
  {
   "cell_type": "code",
   "execution_count": 45,
   "id": "ca8a6ae3",
   "metadata": {},
   "outputs": [
    {
     "data": {
      "text/plain": [
       "<Axes: xlabel='Age', ylabel='TimeSpent'>"
      ]
     },
     "execution_count": 45,
     "metadata": {},
     "output_type": "execute_result"
    },
    {
     "data": {
      "image/png": "[encoded data removed]",
      "text/plain": [
       "<Figure size 640x480 with 1 Axes>"
      ]
     },
     "metadata": {},
     "output_type": "display_data"
    }
   ],
   "source": [
    "sns.scatterplot(x = \"Age\",\n",
    "              y = \"TimeSpent\",\n",
    "              data = data) "
   ]
  },
  {
   "cell_type": "code",
   "execution_count": 46,
   "id": "fa809df3",
   "metadata": {},
   "outputs": [
    {
     "data": {
      "text/plain": [
       "<seaborn.axisgrid.JointGrid at 0x1d03e6c8b90>"
      ]
     },
     "execution_count": 46,
     "metadata": {},
     "output_type": "execute_result"
    },
    {
     "data": {
      "image/png": "[encoded data removed]",
      "text/plain": [
       "<Figure size 600x600 with 3 Axes>"
      ]
     },
     "metadata": {},
     "output_type": "display_data"
    }
   ],
   "source": [
    "sns.jointplot(x = \"Age\",\n",
    "              y = \"TimeSpent\",\n",
    "              data = data) "
   ]
  }
 ],
 "metadata": {
  "kernelspec": {
   "display_name": "Python 3 (ipykernel)",
   "language": "python",
   "name": "python3"
  },
  "language_info": {
   "codemirror_mode": {
    "name": "ipython",
    "version": 3
   },
   "file_extension": ".py",
   "mimetype": "text/x-python",
   "name": "python",
   "nbconvert_exporter": "python",
   "pygments_lexer": "ipython3",
   "version": "3.11.4"
  }
 },
 "nbformat": 4,
 "nbformat_minor": 5
}
